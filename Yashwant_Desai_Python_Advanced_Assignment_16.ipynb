{
 "cells": [
  {
   "cell_type": "markdown",
   "id": "0c27a818",
   "metadata": {},
   "source": [
    "# Yashwant Desai –  Python_Advanced_Assignment_16"
   ]
  },
  {
   "cell_type": "markdown",
   "id": "cb52e7c1",
   "metadata": {},
   "source": [
    "# Q1. What is the benefit of regular expressions?"
   ]
  },
  {
   "cell_type": "markdown",
   "id": "0cd4df96",
   "metadata": {},
   "source": [
    "Below are benefits of regular expressions\n",
    "\n",
    "o Efficient pattern matching and text processing.\n",
    "\n",
    "o Flexibility for handling a wide range of text patterns.\n",
    "\n",
    "o Extraction of specific information from text.\n",
    "\n",
    "o Text manipulation and find-and-replace operations.\n",
    "\n",
    "o Data validation for structured data.\n",
    "\n",
    "o Standardized and widely supported in programming languages and text editors.\n",
    "\n",
    "o Modularity and reusability of regex patterns.\n",
    "\n",
    "o Versatility across different programming languages."
   ]
  },
  {
   "cell_type": "markdown",
   "id": "95225865",
   "metadata": {},
   "source": [
    "# Q2. Describe the difference between the effects of \"(ab)c+\" and \"a(bc)+.\" Which of these, if any, is the unqualified pattern \"abc+\"?"
   ]
  },
  {
   "cell_type": "markdown",
   "id": "2f6c5e6b",
   "metadata": {},
   "source": [
    "Below is the difference between the effect of \"(ab)c+\" and \"a(bc)+\" and \"abc+\"\n",
    "\n",
    "\"(ab)c+\": This regular expression matches strings that start with \"ab\" and are followed by one or more occurrences of the letter \"c.\" It captures and considers the \"ab\" as a single unit due to the parentheses. Examples it would match include \"abc,\" \"abcc,\" \"abccc,\" and so on.\n",
    "\n",
    "\"a(bc)+\": This regular expression matches strings that start with the letter \"a\" followed by one or more occurrences of the sequence \"bc.\" It captures and considers \"bc\" as a single unit due to the parentheses. Examples it would match include \"abc,\" \"abcbc,\" \"abcbcbc,\" and so on.\n",
    "\n",
    "\"abc+\": This unqualified pattern matches strings that start with the letter \"a\" followed by one or more occurrences of the letter \"b\" and, finally, ends with one or more occurrences of the letter \"c.\" It does not use parentheses for grouping, so it captures the entire \"abc\" as a single unit. This pattern would match strings like \"abcc,\" \"abccc,\" \"abbbbccc,\" and so on."
   ]
  },
  {
   "cell_type": "code",
   "execution_count": 1,
   "id": "d0971ffd",
   "metadata": {},
   "outputs": [
    {
     "name": "stdout",
     "output_type": "stream",
     "text": [
      "Matches for (ab)c+: ['ab', 'ab', 'ab']\n",
      "Matches for a(bc)+: ['bc', 'bc', 'bc']\n",
      "Matches for abc+: ['abcc', 'abc', 'abc']\n"
     ]
    }
   ],
   "source": [
    "import re\n",
    "\n",
    "pattern1 = re.compile(r\"(ab)c+\")\n",
    "pattern2 = re.compile(r\"a(bc)+\")\n",
    "pattern3 = re.compile(r\"abc+\")\n",
    "\n",
    "text = \"abcc abcbc abc\"\n",
    "\n",
    "matches1 = pattern1.findall(text)\n",
    "matches2 = pattern2.findall(text)\n",
    "matches3 = pattern3.findall(text)\n",
    "\n",
    "print(\"Matches for (ab)c+:\", matches1)  \n",
    "print(\"Matches for a(bc)+:\", matches2)  \n",
    "print(\"Matches for abc+:\", matches3)    "
   ]
  },
  {
   "cell_type": "markdown",
   "id": "c47dc3a9",
   "metadata": {},
   "source": [
    "# Q3. How much do you need to use the following sentence while using regular expressions?"
   ]
  },
  {
   "cell_type": "markdown",
   "id": "c6c56e8d",
   "metadata": {},
   "source": [
    "# import re"
   ]
  },
  {
   "cell_type": "markdown",
   "id": "84bb6e11",
   "metadata": {},
   "source": [
    "We need to use import re at the beginning of your python script whenever you plan to work with regular expressions as it imports the re module which provides tools for working with regex. re module use its functions and classes to work with regular expression in code\n"
   ]
  },
  {
   "cell_type": "code",
   "execution_count": 2,
   "id": "04acb1d2",
   "metadata": {},
   "outputs": [
    {
     "name": "stdout",
     "output_type": "stream",
     "text": [
      "Match found: 888\n"
     ]
    }
   ],
   "source": [
    "import re\n",
    "pattern = r'\\d+' \n",
    "text = \"The price of the product is 888 Rs, but the discount is 20Rs.\"\n",
    "match = re.search(pattern, text)\n",
    "if match:\n",
    "    print(\"Match found:\", match.group())\n",
    "else:\n",
    "    print(\"No match found\")\n"
   ]
  },
  {
   "cell_type": "markdown",
   "id": "23b971b2",
   "metadata": {},
   "source": [
    "# Q4. Which characters have special significance in square brackets when expressing a range, and under what circumstances?"
   ]
  },
  {
   "cell_type": "markdown",
   "id": "6eba0496",
   "metadata": {},
   "source": [
    "Below are the characters with special significance in square brackets.\n",
    "\n",
    "o The hyphen (-) is used to define a range of characters, such as [a-z] for lowercase letters from 'a' to 'z'.\n",
    "\n",
    "o The caret (^) at the beginning of the square brackets negates the character set, matching characters that are not within the specified range, e.g., [^0-9] for any character that is not a digit.\n",
    "\n",
    "o A backslash () can be used to escape the hyphen or caret if you want to match them literally within the square brackets.\n",
    "\n",
    "o The closing square bracket (]) does not need to be escaped if it is not the first character within the square brackets and is treated as a literal character"
   ]
  },
  {
   "cell_type": "markdown",
   "id": "f2e44c6f",
   "metadata": {},
   "source": [
    "# Q5. How does compiling a regular-expression object benefit you?"
   ]
  },
  {
   "cell_type": "markdown",
   "id": "e26d01ba",
   "metadata": {},
   "source": [
    "Compiling a regular expression object using re.compile() provides the following benefits.\n",
    "\n",
    "o Performance Improvement: Compiled regular expressions tend to execute faster, making your code more efficient, especially when the same pattern is used multiple times.\n",
    "\n",
    "o Readability: It enhances code readability by allowing you to create named regex objects, which makes your code more organized and easier to understand.\n",
    "\n",
    "o Reusability: Compiled regex objects are reusable, reducing redundancy in your code. You can use the same compiled object to match patterns against different strings without recompilation."
   ]
  },
  {
   "cell_type": "code",
   "execution_count": 3,
   "id": "6522f39e",
   "metadata": {},
   "outputs": [
    {
     "name": "stdout",
     "output_type": "stream",
     "text": [
      "Date 1: 10-20-2023\n",
      "Date 2: 05-15-2022\n"
     ]
    }
   ],
   "source": [
    "import re\n",
    "pattern = r'\\d{2}-\\d{2}-\\d{4}'\n",
    "date_regex = re.compile(pattern)\n",
    "text1 = \"The event is on 10-20-2023.\"\n",
    "text2 = \"Your appointment is on 05-15-2022.\"\n",
    "\n",
    "match1 = date_regex.search(text1)\n",
    "match2 = date_regex.search(text2)\n",
    "\n",
    "if match1:\n",
    "    print(\"Date 1:\", match1.group())\n",
    "if match2:\n",
    "    print(\"Date 2:\", match2.group())"
   ]
  },
  {
   "cell_type": "markdown",
   "id": "9e4d042c",
   "metadata": {},
   "source": [
    "# Q6. What are some examples of how to use the match object returned by re.match and re.search?"
   ]
  },
  {
   "cell_type": "markdown",
   "id": "56d28954",
   "metadata": {},
   "source": [
    "We can use the match object returned by re.match and re.search in re module."
   ]
  },
  {
   "cell_type": "markdown",
   "id": "440c416a",
   "metadata": {},
   "source": [
    "below is an example of re.match"
   ]
  },
  {
   "cell_type": "code",
   "execution_count": 4,
   "id": "be8941d5",
   "metadata": {},
   "outputs": [
    {
     "name": "stdout",
     "output_type": "stream",
     "text": [
      "Match found: The price\n"
     ]
    }
   ],
   "source": [
    "import re\n",
    "text = \"The price of the product is 88Rs.\"\n",
    "match = re.match(r'The price', text)\n",
    "if match:\n",
    "    print(\"Match found:\", match.group())"
   ]
  },
  {
   "cell_type": "markdown",
   "id": "39222cda",
   "metadata": {},
   "source": [
    "below is an example of re.search"
   ]
  },
  {
   "cell_type": "code",
   "execution_count": 5,
   "id": "df8a15b3",
   "metadata": {},
   "outputs": [
    {
     "name": "stdout",
     "output_type": "stream",
     "text": [
      "search found: #88\n"
     ]
    }
   ],
   "source": [
    "import re\n",
    "\n",
    "text = \"The price of the product is #88.\"\n",
    "match = re.search(r'\\#\\d+', text)\n",
    "if match:\n",
    "    print(\"search found:\", match.group())"
   ]
  },
  {
   "cell_type": "markdown",
   "id": "89be57d0",
   "metadata": {},
   "source": [
    "# Q7. What is the difference between using a vertical bar (|) as an alteration and using square brackets as a character set?"
   ]
  },
  {
   "cell_type": "markdown",
   "id": "7870aa49",
   "metadata": {},
   "source": [
    "The key differences between using a vertical bar (|) for alternation and square brackets ([]) for character sets in regular expressions are as follows:\n",
    "\n",
    "Vertical Bar (|) for Alternation: It specifies alternatives and allows one of several choices within the pattern. It is useful for matching multiple characters or patterns, providing logical OR conditions, and creating complex alternatives.\n",
    "\n",
    "Square Brackets ([]) for Character Set: Square brackets define a set of characters and match any single character from that set. They are used to match specific characters or characters within a predefined set, including ranges and special character classes."
   ]
  },
  {
   "cell_type": "code",
   "execution_count": 6,
   "id": "6d1cc554",
   "metadata": {},
   "outputs": [
    {
     "name": "stdout",
     "output_type": "stream",
     "text": [
      "Match 1: cat\n",
      "Match 2: dog\n"
     ]
    }
   ],
   "source": [
    "import re\n",
    "\n",
    "pattern = r'cat|dog'\n",
    "\n",
    "text1 = \"I have a cat.\"\n",
    "text2 = \"I love my dog.\"\n",
    "\n",
    "match1 = re.search(pattern, text1)\n",
    "match2 = re.search(pattern, text2)\n",
    "if match1:\n",
    "    print(\"Match 1:\", match1.group())\n",
    "if match2:\n",
    "    print(\"Match 2:\", match2.group())"
   ]
  },
  {
   "cell_type": "code",
   "execution_count": 7,
   "id": "1c3b3668",
   "metadata": {},
   "outputs": [
    {
     "name": "stdout",
     "output_type": "stream",
     "text": [
      "Matches: ['e', 'u', 'i', 'o', 'o', 'u', 'o', 'e', 'e', 'a', 'o']\n"
     ]
    }
   ],
   "source": [
    "import re\n",
    "\n",
    "pattern = r'[aeiou]'\n",
    "\n",
    "text = \"The quick brown fox jumps over the lazy dog.\"\n",
    "\n",
    "matches = re.findall(pattern, text)\n",
    "\n",
    "print(\"Matches:\", matches) "
   ]
  },
  {
   "cell_type": "markdown",
   "id": "fd02dc9d",
   "metadata": {},
   "source": [
    "# Q8. In regular-expression search patterns, why is it necessary to use the raw-string indicator (r)? In   replacement strings?"
   ]
  },
  {
   "cell_type": "markdown",
   "id": "154c2062",
   "metadata": {},
   "source": [
    "Using the raw-string indicator (r) in regular expression search patterns is a best practice because it ensures that backslashes are treated as literal characters and avoids potential issues related to escaping.\n",
    "\n",
    "In replacement strings, using r is generally not necessary, as backslashes typically do not serve as escape characters. Regular strings can be used in replacement strings without concerns about escaping."
   ]
  },
  {
   "cell_type": "code",
   "execution_count": 8,
   "id": "c5c23dc4",
   "metadata": {},
   "outputs": [
    {
     "name": "stdout",
     "output_type": "stream",
     "text": [
      "The price is €888.\n"
     ]
    }
   ],
   "source": [
    "import re\n",
    "text = \"The price is $80.\"\n",
    "replacement = \"€888\"\n",
    "result = re.sub(r'\\$\\d+', replacement, text)\n",
    "print(result)"
   ]
  },
  {
   "cell_type": "markdown",
   "id": "dda7d5b1",
   "metadata": {},
   "source": [
    "# Done all 8 questions "
   ]
  },
  {
   "cell_type": "markdown",
   "id": "a04469f9",
   "metadata": {},
   "source": [
    "# Regards,Yashwant"
   ]
  }
 ],
 "metadata": {
  "kernelspec": {
   "display_name": "Python 3 (ipykernel)",
   "language": "python",
   "name": "python3"
  },
  "language_info": {
   "codemirror_mode": {
    "name": "ipython",
    "version": 3
   },
   "file_extension": ".py",
   "mimetype": "text/x-python",
   "name": "python",
   "nbconvert_exporter": "python",
   "pygments_lexer": "ipython3",
   "version": "3.9.13"
  }
 },
 "nbformat": 4,
 "nbformat_minor": 5
}
